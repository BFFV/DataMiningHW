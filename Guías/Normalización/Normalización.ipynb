{
 "cells": [
  {
   "cell_type": "code",
   "execution_count": 2,
   "metadata": {},
   "outputs": [
    {
     "name": "stdout",
     "output_type": "stream",
     "text": [
      "    A\n",
      "0  36\n",
      "1  72\n",
      "2  83\n",
      "3  23\n",
      "4  85\n",
      "5  14\n",
      "6  75\n",
      "7  37\n",
      "8   8\n",
      "9   4\n"
     ]
    }
   ],
   "source": [
    "import numpy as np\n",
    "import seaborn as sns\n",
    "import pandas as pd\n",
    "import matplotlib.pyplot as plt\n",
    "\n",
    "#creación de un dataframe con datos generados aleatoriamente\n",
    "df = pd.DataFrame(np.random.randint(0,100,size=(10, 1)), columns=list('A'))\n",
    "print(df)"
   ]
  },
  {
   "cell_type": "markdown",
   "metadata": {},
   "source": [
    "### Normalización Min-Max\n",
    "\n",
    "Para la normalización Min-Max podemos usar la siguiente fórmula\n",
    "\n",
    "$$ Z_i = a_2 + \\frac{X_i-a_1}{b_1-a_1}(b_2-a_2) $$"
   ]
  },
  {
   "cell_type": "code",
   "execution_count": 3,
   "metadata": {},
   "outputs": [
    {
     "name": "stdout",
     "output_type": "stream",
     "text": [
      "0    0.395062\n",
      "1    0.839506\n",
      "2    0.975309\n",
      "3    0.234568\n",
      "4    1.000000\n",
      "5    0.123457\n",
      "6    0.876543\n",
      "7    0.407407\n",
      "8    0.049383\n",
      "9    0.000000\n",
      "Name: A, dtype: float64\n"
     ]
    },
    {
     "data": {
      "image/png": "[encoded data removed]",
      "text/plain": [
       "<Figure size 432x288 with 1 Axes>"
      ]
     },
     "metadata": {},
     "output_type": "display_data"
    },
    {
     "data": {
      "image/png": "[encoded data removed]",
      "text/plain": [
       "<Figure size 432x288 with 1 Axes>"
      ]
     },
     "metadata": {},
     "output_type": "display_data"
    }
   ],
   "source": [
    "#la normalización se realizad\n",
    "norm = (df[\"A\"]-min(df[\"A\"]))/(max(df[\"A\"])-min(df[\"A\"]))\n",
    "\n",
    "print(norm)\n",
    "\n",
    "df_plot   = sns.barplot(data=df, y=df[\"A\"], x=df.index.tolist())\n",
    "plt.title(\"Datos aleatorios\")\n",
    "plt.show(df_plot)\n",
    "\n",
    "plt.title(\"Datos normalizados\")\n",
    "norm_plot = sns.barplot(data=df, y=norm, x=df.index.tolist())\n",
    "plt.show(norm_plot)"
   ]
  },
  {
   "cell_type": "markdown",
   "metadata": {},
   "source": [
    "### Min-Max manual"
   ]
  },
  {
   "cell_type": "markdown",
   "metadata": {},
   "source": [
    "Es posible realizar los cálculos de la normalización en un ciclo tal como lo muestra el siguiente ejemplo\n",
    "#### Ejemplo:\n",
    "$a_1=0$ y $b_1=5$  Valores que llevaré al rango\n",
    "\n",
    "$a_2=0$ y $b_2=1$  Nuevo rango \n",
    "\n",
    "\n",
    "#### Ejemplo en el set de datos df"
   ]
  },
  {
   "cell_type": "code",
   "execution_count": 4,
   "metadata": {},
   "outputs": [
    {
     "data": {
      "text/html": [
       "<div>\n",
       "<style scoped>\n",
       "    .dataframe tbody tr th:only-of-type {\n",
       "        vertical-align: middle;\n",
       "    }\n",
       "\n",
       "    .dataframe tbody tr th {\n",
       "        vertical-align: top;\n",
       "    }\n",
       "\n",
       "    .dataframe thead th {\n",
       "        text-align: right;\n",
       "    }\n",
       "</style>\n",
       "<table border=\"1\" class=\"dataframe\">\n",
       "  <thead>\n",
       "    <tr style=\"text-align: right;\">\n",
       "      <th></th>\n",
       "      <th>B</th>\n",
       "    </tr>\n",
       "  </thead>\n",
       "  <tbody>\n",
       "    <tr>\n",
       "      <th>0</th>\n",
       "      <td>0.423529</td>\n",
       "    </tr>\n",
       "    <tr>\n",
       "      <th>1</th>\n",
       "      <td>0.847059</td>\n",
       "    </tr>\n",
       "    <tr>\n",
       "      <th>2</th>\n",
       "      <td>0.976471</td>\n",
       "    </tr>\n",
       "    <tr>\n",
       "      <th>3</th>\n",
       "      <td>0.270588</td>\n",
       "    </tr>\n",
       "    <tr>\n",
       "      <th>4</th>\n",
       "      <td>1.000000</td>\n",
       "    </tr>\n",
       "    <tr>\n",
       "      <th>5</th>\n",
       "      <td>0.164706</td>\n",
       "    </tr>\n",
       "    <tr>\n",
       "      <th>6</th>\n",
       "      <td>0.882353</td>\n",
       "    </tr>\n",
       "    <tr>\n",
       "      <th>7</th>\n",
       "      <td>0.435294</td>\n",
       "    </tr>\n",
       "    <tr>\n",
       "      <th>8</th>\n",
       "      <td>0.094118</td>\n",
       "    </tr>\n",
       "    <tr>\n",
       "      <th>9</th>\n",
       "      <td>0.047059</td>\n",
       "    </tr>\n",
       "  </tbody>\n",
       "</table>\n",
       "</div>"
      ],
      "text/plain": [
       "          B\n",
       "0  0.423529\n",
       "1  0.847059\n",
       "2  0.976471\n",
       "3  0.270588\n",
       "4  1.000000\n",
       "5  0.164706\n",
       "6  0.882353\n",
       "7  0.435294\n",
       "8  0.094118\n",
       "9  0.047059"
      ]
     },
     "execution_count": 4,
     "metadata": {},
     "output_type": "execute_result"
    }
   ],
   "source": [
    "a1=0\n",
    "b1=max(df[\"A\"])\n",
    "a2=0\n",
    "b2=1\n",
    "df_normGen = pd.DataFrame(columns=['B'])\n",
    "\n",
    "for index,row in df.iterrows():\n",
    "    valor = a2 + ((row[\"A\"]-a1)/(b1-a1))*(b2-a2)\n",
    "    df_normGen = df_normGen.append({'B': valor}, ignore_index=True)\n",
    "df_normGen"
   ]
  },
  {
   "cell_type": "code",
   "execution_count": 5,
   "metadata": {},
   "outputs": [
    {
     "data": {
      "image/png": "[encoded data removed]",
      "text/plain": [
       "<Figure size 432x288 with 1 Axes>"
      ]
     },
     "metadata": {},
     "output_type": "display_data"
    },
    {
     "data": {
      "image/png": "[encoded data removed]",
      "text/plain": [
       "<Figure size 432x288 with 1 Axes>"
      ]
     },
     "metadata": {},
     "output_type": "display_data"
    }
   ],
   "source": [
    "#dataframe original\n",
    "df_plot   = sns.barplot(data=df, y=df[\"A\"], x=df.index.tolist())\n",
    "plt.title(\"Datos aleatorios\")\n",
    "plt.show(df_plot)\n",
    "\n",
    "#dataframe normalizado\n",
    "plt.title(\"Datos normalizados\")\n",
    "norm_plot = sns.barplot(data=df_normGen, y=norm, x=df.index.tolist())\n",
    "plt.show(norm_plot)"
   ]
  }
 ],
 "metadata": {
  "kernelspec": {
   "display_name": "Python 3",
   "language": "python",
   "name": "python3"
  },
  "language_info": {
   "codemirror_mode": {
    "name": "ipython",
    "version": 3
   },
   "file_extension": ".py",
   "mimetype": "text/x-python",
   "name": "python",
   "nbconvert_exporter": "python",
   "pygments_lexer": "ipython3",
   "version": "3.6.2"
  }
 },
 "nbformat": 4,
 "nbformat_minor": 2
}
