{
 "cells": [
  {
   "cell_type": "markdown",
   "metadata": {
    "colab_type": "text",
    "id": "Hj5r39yRHTj6"
   },
   "source": [
    "# Regresión Lineal"
   ]
  },
  {
   "cell_type": "markdown",
   "metadata": {
    "colab_type": "text",
    "id": "BC91V5TgtT5C"
   },
   "source": [
    "*¿Qué es la regresión lineal?*\n",
    "\n",
    "La regresión lineal es un algoritmo de aprendizaje supervisado que se utiliza en Machine Learning y en estadística. En su versión más sencilla, lo que haremos es “dibujar una recta” que nos indicará la tendencia de un conjunto de datos continuos (si fueran discretos, utilizaríamos Regresión Logística).\n",
    "\n",
    "En estadísticas, regresión lineal es una aproximación para modelar la relación entre una variable escalar dependiente “y” y una o mas variables explicativas nombradas con “X”.\n",
    "\n",
    "Primero,  recordar que la fórmula de una recta es:\n",
    "\n",
    "$$ Y = mX + b$$\n",
    "\n",
    "Donde $Y$ es el resultado, $X$ es la variable, $m$ la pendiente (o coeficiente) de la recta y $b$ la constante o también conocida como el “punto de corte con el eje Y” en la gráfica (cuando $X=0$)\n",
    "\n",
    "Por lo tanto la recta de regresión es la que mejor se ajusta a la nube de puntos (puntos en un plano)\n",
    "\n",
    "La regresión lineal es fácil de entender ya que podemos representarla como una simple ecuación lineal:\n",
    "\n",
    "$$ Y_i = \\beta_0 + \\beta_1X_1 + \\beta_2X_2 + ... + \\beta_pX_p\\varepsilon $$\n",
    "\n",
    "donde:\n",
    "\n",
    "$Y_i$: Es la variable dependiente\n",
    "$X_1,X_2,...,X_p$: Son las variables independientes\n",
    "$\\beta_0,\\beta_1,\\beta_2,...,\\beta_p,$: son los parámetros que influencian las variables independientes.\n"
   ]
  },
  {
   "cell_type": "markdown",
   "metadata": {
    "colab_type": "text",
    "id": "UxUHuUbGFSgB"
   },
   "source": [
    "## Regresión Lineal Simple:"
   ]
  },
  {
   "cell_type": "markdown",
   "metadata": {
    "colab_type": "text",
    "id": "jThaDiAhFcw_"
   },
   "source": [
    "Regresión Lineal Simple:"
   ]
  },
  {
   "cell_type": "markdown",
   "metadata": {
    "colab_type": "text",
    "id": "jLLMtBJFFqWX"
   },
   "source": [
    "Donde se maneja un variable independiente, por lo que sólo cuenta con 2 parámetros. Su forma es:\n",
    "\n",
    "$$ Y_i = \\beta_0 + \\beta_1X_i + \\varepsilon_i $$"
   ]
  },
  {
   "cell_type": "markdown",
   "metadata": {
    "colab_type": "text",
    "id": "qC48pp3wKY6j"
   },
   "source": [
    "### Ejemplo 1: regresión lineal simple en python usando módulo Scikit-Learn con datos de entrada definidos.\n",
    "\n",
    "\n",
    "Modulos de python usados:  *Scikit-Learn* y *Matplotlib*.\n",
    "\n",
    "Se ajustará un modelo de regresión lineal para calcular las ventas estimadas para el periodo 7 (Mes de Julio).\n",
    "\n",
    "Supongamos que tenemos una pequeña tienda que vende computadoras, la cual en enero vendió 7000 unidades, en marzo 9000 unidades, en febrero 5000 unidades, en abril 11000 unidades, en mayo 10000 unidades y en junio 13000 unidades. Como podemos ver, hay altos y bajas. Lo que quiero hacer es calcular un promedio de las ventas que se realizaran para el mes de julio (periodo 7). Para lograr mi objetivo, utilizare el Aprendizaje Automático."
   ]
  },
  {
   "cell_type": "code",
   "execution_count": 0,
   "metadata": {
    "colab": {
     "base_uri": "https://localhost:8080/",
     "height": 283
    },
    "colab_type": "code",
    "executionInfo": {
     "elapsed": 707,
     "status": "ok",
     "timestamp": 1555765524045,
     "user": {
      "displayName": "Mauricio Arriagada Benitez",
      "photoUrl": "https://lh3.googleusercontent.com/-2CTG9pNHdwQ/AAAAAAAAAAI/AAAAAAAAAG4/d66uv_hNeaE/s64/photo.jpg",
      "userId": "14306428628867845036"
     },
     "user_tz": 240
    },
    "id": "Gp_INYlnLChe",
    "outputId": "a129229b-dc1e-4c22-b881-5500f46dba20"
   },
   "outputs": [
    {
     "data": {
      "image/png": "[encoded data removed]",
      "text/plain": [
       "<Figure size 432x288 with 1 Axes>"
      ]
     },
     "metadata": {
      "tags": []
     },
     "output_type": "display_data"
    }
   ],
   "source": [
    "#Importación de módulos \n",
    "import numpy as np\n",
    "import matplotlib.pyplot as pl\n",
    "from sklearn import linear_model\n",
    "\n",
    "# Datos para ajustar al modelo\n",
    "# Estos datos conforman los puntos de muestra de 6 períodos\n",
    "x1=[[1],[2],[3],[4],[5],[6]]\n",
    "y1=[7000, 9000, 5000, 11000, 10000, 13000]\n",
    "\n",
    "x=[[1],[2],[3],[4],[5],[6], [7]]\n",
    "\n",
    "# Utilizamos matplotlib para mostrar el diagrama en pantalla\n",
    "pl.figure(1)\n",
    "\n",
    "# Describimos los ejes del gráfico\n",
    "pl.xlabel('X')\n",
    "pl.ylabel('Y')\n",
    "\n",
    "# Asignamos los limites del gráfico\n",
    "pl.xlim(.0, 8.0) #tamaño eje x\n",
    "pl.ylim(.0, 19000) # altura eje y\n",
    "\n",
    "\n",
    "# El método scatter muestra los puntos que conforman al diagrama de dispersión\n",
    "pl.scatter(x1, y1, s=40, marker='o', color='g')\n",
    "\n",
    "# Mostramos el gráfico en pantalla\n",
    "pl.show()"
   ]
  },
  {
   "cell_type": "code",
   "execution_count": 0,
   "metadata": {
    "colab": {
     "base_uri": "https://localhost:8080/",
     "height": 34
    },
    "colab_type": "code",
    "executionInfo": {
     "elapsed": 697,
     "status": "ok",
     "timestamp": 1555765534832,
     "user": {
      "displayName": "Mauricio Arriagada Benitez",
      "photoUrl": "https://lh3.googleusercontent.com/-2CTG9pNHdwQ/AAAAAAAAAAI/AAAAAAAAAG4/d66uv_hNeaE/s64/photo.jpg",
      "userId": "14306428628867845036"
     },
     "user_tz": 240
    },
    "id": "r4Y-GU55z5S4",
    "outputId": "201aa6f9-0cc2-48a2-fd08-8e5922a4fccb"
   },
   "outputs": [
    {
     "name": "stdout",
     "output_type": "stream",
     "text": [
      "Coeficiente:  [1114.28571429] 5266.666666666666\n"
     ]
    }
   ],
   "source": [
    "# Creamos el objeto LinearRegression (Modelo), sin datos aún\n",
    "regr = linear_model.LinearRegression()\n",
    "\n",
    "# Ajustamos a nuestro modelo con los datos\n",
    "# fit: ajusta (entrena) el modelo a un conjunto de datos dado\n",
    "# además encuentra los coeficientes del modelo\n",
    "regr.fit(x1,y1)\n",
    "\n",
    "# Imprimimos el Coeficiente estimado para el problema\n",
    "# coef_ es la función que entrega el coeficiente beta\n",
    "# intercept_ entrega el el valor donde corta la recta en eje y\n",
    "print('Coeficiente: ', regr.coef_, regr.intercept_)"
   ]
  },
  {
   "cell_type": "markdown",
   "metadata": {
    "colab_type": "text",
    "id": "qE5SZaNN0DyA"
   },
   "source": [
    "Nuestra ecuación:\n",
    "\n",
    "$$ Y_i = \\beta_0 + \\beta_1X_i + \\varepsilon_i $$\n",
    "\n",
    "queda de la siguiente manera:\n",
    "\n",
    "$$ y = 5266.6 + 1114.2x $$"
   ]
  },
  {
   "cell_type": "code",
   "execution_count": 0,
   "metadata": {
    "colab": {
     "base_uri": "https://localhost:8080/",
     "height": 281
    },
    "colab_type": "code",
    "executionInfo": {
     "elapsed": 720,
     "status": "ok",
     "timestamp": 1555765569444,
     "user": {
      "displayName": "Mauricio Arriagada Benitez",
      "photoUrl": "https://lh3.googleusercontent.com/-2CTG9pNHdwQ/AAAAAAAAAAI/AAAAAAAAAG4/d66uv_hNeaE/s64/photo.jpg",
      "userId": "14306428628867845036"
     },
     "user_tz": 240
    },
    "id": "vGA2T9Ru0Ede",
    "outputId": "c1d0f8fb-0f1a-4226-effa-693475ffb28b"
   },
   "outputs": [
    {
     "data": {
      "image/png": "[encoded data removed]",
      "text/plain": [
       "<Figure size 432x288 with 1 Axes>"
      ]
     },
     "metadata": {
      "tags": []
     },
     "output_type": "display_data"
    }
   ],
   "source": [
    "# El método title asigna un nombre al grafico\n",
    "# Utilizamos el metodo predict para predecir las futuras ventas\n",
    "pl.title(\"Las Ventas para el periodo 7 es equivalente a %s\" % regr.predict([[7]]))\n",
    "\n",
    "# El método predict genera la linea con los valores de entrenamiento del vector x\n",
    "y = regr.predict(x)\n",
    "\n",
    "\n",
    "pl.scatter(x1, y1, s=40, marker='o', color='g') #agregamos los puntos al plano\n",
    "# El método plot nos permite trazar la linea\n",
    "pl.plot(x, y, color='red', linewidth=2)\n",
    "pl.show()"
   ]
  },
  {
   "cell_type": "markdown",
   "metadata": {
    "colab_type": "text",
    "id": "eLZ_s4B-1kxa"
   },
   "source": [
    "Ahora realizamos cálculo de un promedio de las ventas que se realizaran para el mes de julio (periodo 7). Esta estimación "
   ]
  },
  {
   "cell_type": "code",
   "execution_count": 0,
   "metadata": {
    "colab": {
     "base_uri": "https://localhost:8080/",
     "height": 269
    },
    "colab_type": "code",
    "executionInfo": {
     "elapsed": 691,
     "status": "ok",
     "timestamp": 1555765723111,
     "user": {
      "displayName": "Mauricio Arriagada Benitez",
      "photoUrl": "https://lh3.googleusercontent.com/-2CTG9pNHdwQ/AAAAAAAAAAI/AAAAAAAAAG4/d66uv_hNeaE/s64/photo.jpg",
      "userId": "14306428628867845036"
     },
     "user_tz": 240
    },
    "id": "cYv2m0Wn1GP8",
    "outputId": "1b0d76b2-83f1-424d-d98e-b4db2e3949ec"
   },
   "outputs": [
    {
     "data": {
      "image/png": "[encoded data removed]",
      "text/plain": [
       "<Figure size 432x288 with 1 Axes>"
      ]
     },
     "metadata": {
      "tags": []
     },
     "output_type": "display_data"
    }
   ],
   "source": [
    "# Mostramos el punto que predice el modelo (Punto azul)\n",
    "new_x = 7\n",
    "new_y = regr.predict([[7]]) #se obtiene el valor de y dado x=7\n",
    "pl.scatter(new_x, new_y, color=\"blue\")\n",
    "\n",
    "pl.scatter(x1, y1, s=40, marker='o', color='g') #agregamos los puntos al plano\n",
    "pl.plot(x, y, color='red', linewidth=2) #agregamos la reg.lineal\n",
    "\n",
    "# Mostramos el gráfico en pantalla\n",
    "pl.show()"
   ]
  },
  {
   "cell_type": "markdown",
   "metadata": {
    "colab_type": "text",
    "id": "UM73SSMX9UZW"
   },
   "source": [
    "### Ejemplo 2: regresión lineal simple en python usando módulo statsmodels y datos desde archivo.\n",
    "\n",
    "En este ejemplo veremos cómo los comerciales por tv afectan las ventas de productos.\n",
    "\n",
    "Este ejemplo usa un archivo llamado Advertising.csv que tiene infomación histórica de las ventas de productos que se han producido producto de anuncios de comerciales de TV, radio y periódico.\n",
    "\n",
    "El primer paso es cargar la informacion del archivo. Este archivo lo colocaremos en la carpeta \"Colab Notebook\" del la cuenta de Google Drive que usas."
   ]
  },
  {
   "cell_type": "code",
   "execution_count": 0,
   "metadata": {
    "colab": {
     "base_uri": "https://localhost:8080/",
     "height": 309
    },
    "colab_type": "code",
    "executionInfo": {
     "elapsed": 26485,
     "status": "ok",
     "timestamp": 1555767752732,
     "user": {
      "displayName": "Mauricio Arriagada Benitez",
      "photoUrl": "https://lh3.googleusercontent.com/-2CTG9pNHdwQ/AAAAAAAAAAI/AAAAAAAAAG4/d66uv_hNeaE/s64/photo.jpg",
      "userId": "14306428628867845036"
     },
     "user_tz": 240
    },
    "id": "_QzEatxR-wpK",
    "outputId": "e8ab23a2-96ab-4d98-ebaa-9f882f34a6f5"
   },
   "outputs": [
    {
     "name": "stdout",
     "output_type": "stream",
     "text": [
      "Go to this URL in a browser: https://accounts.google.com/o/oauth2/auth?client_id=947318989803-6bn6qk8qdgf4n4g3pfee6491hc0brc4i.apps.googleusercontent.com&redirect_uri=urn%3Aietf%3Awg%3Aoauth%3A2.0%3Aoob&scope=email%20https%3A%2F%2Fwww.googleapis.com%2Fauth%2Fdocs.test%20https%3A%2F%2Fwww.googleapis.com%2Fauth%2Fdrive%20https%3A%2F%2Fwww.googleapis.com%2Fauth%2Fdrive.photos.readonly%20https%3A%2F%2Fwww.googleapis.com%2Fauth%2Fpeopleapi.readonly&response_type=code\n",
      "\n",
      "Enter your authorization code:\n",
      "··········\n",
      "Mounted at /content/drive\n"
     ]
    },
    {
     "data": {
      "text/html": [
       "<div>\n",
       "<style scoped>\n",
       "    .dataframe tbody tr th:only-of-type {\n",
       "        vertical-align: middle;\n",
       "    }\n",
       "\n",
       "    .dataframe tbody tr th {\n",
       "        vertical-align: top;\n",
       "    }\n",
       "\n",
       "    .dataframe thead th {\n",
       "        text-align: right;\n",
       "    }\n",
       "</style>\n",
       "<table border=\"1\" class=\"dataframe\">\n",
       "  <thead>\n",
       "    <tr style=\"text-align: right;\">\n",
       "      <th></th>\n",
       "      <th>Unnamed: 0</th>\n",
       "      <th>TV</th>\n",
       "      <th>radio</th>\n",
       "      <th>newspaper</th>\n",
       "      <th>sales</th>\n",
       "    </tr>\n",
       "  </thead>\n",
       "  <tbody>\n",
       "    <tr>\n",
       "      <th>0</th>\n",
       "      <td>1</td>\n",
       "      <td>230.1</td>\n",
       "      <td>37.8</td>\n",
       "      <td>69.2</td>\n",
       "      <td>22.1</td>\n",
       "    </tr>\n",
       "    <tr>\n",
       "      <th>1</th>\n",
       "      <td>2</td>\n",
       "      <td>44.5</td>\n",
       "      <td>39.3</td>\n",
       "      <td>45.1</td>\n",
       "      <td>10.4</td>\n",
       "    </tr>\n",
       "    <tr>\n",
       "      <th>2</th>\n",
       "      <td>3</td>\n",
       "      <td>17.2</td>\n",
       "      <td>45.9</td>\n",
       "      <td>69.3</td>\n",
       "      <td>9.3</td>\n",
       "    </tr>\n",
       "    <tr>\n",
       "      <th>3</th>\n",
       "      <td>4</td>\n",
       "      <td>151.5</td>\n",
       "      <td>41.3</td>\n",
       "      <td>58.5</td>\n",
       "      <td>18.5</td>\n",
       "    </tr>\n",
       "    <tr>\n",
       "      <th>4</th>\n",
       "      <td>5</td>\n",
       "      <td>180.8</td>\n",
       "      <td>10.8</td>\n",
       "      <td>58.4</td>\n",
       "      <td>12.9</td>\n",
       "    </tr>\n",
       "  </tbody>\n",
       "</table>\n",
       "</div>"
      ],
      "text/plain": [
       "   Unnamed: 0     TV  radio  newspaper  sales\n",
       "0           1  230.1   37.8       69.2   22.1\n",
       "1           2   44.5   39.3       45.1   10.4\n",
       "2           3   17.2   45.9       69.3    9.3\n",
       "3           4  151.5   41.3       58.5   18.5\n",
       "4           5  180.8   10.8       58.4   12.9"
      ]
     },
     "execution_count": 13,
     "metadata": {
      "tags": []
     },
     "output_type": "execute_result"
    }
   ],
   "source": [
    "import pandas as pd\n",
    "from google.colab import drive\n",
    "drive.mount('/content/drive')\n",
    "\n",
    "#El siguiente código, por seguridad, mostrará \"Go to this URL in a browser\" y un link.\n",
    "#ir al link, seleccionar la cuenta de gDrive que usas y copia el código. Lo pegas y listo\n",
    "#con este estamos permitiendo al programa que podamos acceder archivos de nuestro gDrive\n",
    "advert = pd.read_csv('drive/My Drive/Colab Notebooks/Advertising.csv')\n",
    "advert.head()  #muestra sólo los primeros 5 registros del archivos por pantalla"
   ]
  },
  {
   "cell_type": "code",
   "execution_count": 0,
   "metadata": {
    "colab": {
     "base_uri": "https://localhost:8080/",
     "height": 68
    },
    "colab_type": "code",
    "executionInfo": {
     "elapsed": 837,
     "status": "ok",
     "timestamp": 1555768094544,
     "user": {
      "displayName": "Mauricio Arriagada Benitez",
      "photoUrl": "https://lh3.googleusercontent.com/-2CTG9pNHdwQ/AAAAAAAAAAI/AAAAAAAAAG4/d66uv_hNeaE/s64/photo.jpg",
      "userId": "14306428628867845036"
     },
     "user_tz": 240
    },
    "id": "7tHg79qX_hFS",
    "outputId": "0f141c26-5d22-4632-af2c-b30de2de447c"
   },
   "outputs": [
    {
     "data": {
      "text/plain": [
       "Intercept    7.032594\n",
       "TV           0.047537\n",
       "dtype: float64"
      ]
     },
     "execution_count": 14,
     "metadata": {
      "tags": []
     },
     "output_type": "execute_result"
    }
   ],
   "source": [
    "#carga de módulo statsmodels\n",
    "import statsmodels.formula.api as smf\n",
    "\n",
    "# se carga el documento que tenemos en la variable advert y se seleccionamos\n",
    "# solamente 2 columnas: sales y TV\n",
    "model = smf.ols('sales ~ TV', data=advert)\n",
    "\n",
    "# fit: ajusta (entrena) el modelo a un conjunto de datos dado\n",
    "# además encuentra los coeficientes del modelo. Los datos están en el objeto \"model\"\n",
    "# por eso no fueron enviados en el paréntesis\n",
    "model = model.fit()\n",
    "model.params #retorna los parámetros que necesitamos de la ecuación."
   ]
  },
  {
   "cell_type": "markdown",
   "metadata": {
    "colab_type": "text",
    "id": "9QipcyAQAWa1"
   },
   "source": [
    "De la ecuación de la recta $y = \\alpha + \\beta x$, donde $\\alpha$ es el punto donde corta la recta en el eje y, y $\\beta$ la pendiente de la recta, tenemos en nuestro ejemplo:\n",
    "\n",
    "$\\alpha = 7.032$ y $\\beta = 0.047$\n",
    "\n",
    "donde la ecuación queda de la siguiente forma:\n",
    "\n",
    "$$y = 7.032 + 0.047(x)$$\n",
    "\n",
    "y en nuestro ejemplo $sales = 7.032 + 0.047(TV)$\n",
    "\n",
    "Así, en promedio, si gastamos $100 en comerciales de TV, deberíamos esperar 11.73 unidades de ventas.\n",
    "\n",
    "Ahora a graficar"
   ]
  },
  {
   "cell_type": "code",
   "execution_count": 0,
   "metadata": {
    "colab": {
     "base_uri": "https://localhost:8080/",
     "height": 404
    },
    "colab_type": "code",
    "executionInfo": {
     "elapsed": 792,
     "status": "ok",
     "timestamp": 1555768935893,
     "user": {
      "displayName": "Mauricio Arriagada Benitez",
      "photoUrl": "https://lh3.googleusercontent.com/-2CTG9pNHdwQ/AAAAAAAAAAI/AAAAAAAAAG4/d66uv_hNeaE/s64/photo.jpg",
      "userId": "14306428628867845036"
     },
     "user_tz": 240
    },
    "id": "iA5f-YZYCFgj",
    "outputId": "c9c42f9c-ea16-4a5a-c991-383d2a00fcb4"
   },
   "outputs": [
    {
     "data": {
      "image/png": "[encoded data removed]",
      "text/plain": [
       "<Figure size 864x432 with 1 Axes>"
      ]
     },
     "metadata": {
      "tags": []
     },
     "output_type": "display_data"
    }
   ],
   "source": [
    "from matplotlib import pyplot as plt\n",
    "\n",
    "# Predecir valores de la recta con la función predict usando el modelo y los datos\n",
    "# guardados en el objeto \"model\"\n",
    "# Dados los valores de TV (eje x) se predicen las ventas (eje y)\n",
    "sales_pred = model.predict() \n",
    "\n",
    "# Graficar regresión y el set de datos\n",
    "plt.figure(figsize=(12, 6))\n",
    "x = advert['TV']\n",
    "y = advert['sales']\n",
    "\n",
    "# scatter plot muestra de datos históricos (puntos del archivo)\n",
    "plt.plot(x, y, 'go') # \"g\" es green y \"o\" es círculo \n",
    "\n",
    "plt.plot(x, sales_pred, color='blue', linewidth=2)   # regression line\n",
    "plt.xlabel('TV Advertising Costs')\n",
    "plt.ylabel('Sales')\n",
    "plt.title('TV vs Sales')\n",
    "\n",
    "plt.show()"
   ]
  },
  {
   "cell_type": "markdown",
   "metadata": {
    "colab_type": "text",
    "id": "99KmAARXFVJG"
   },
   "source": [
    "## Regresión Lineal Multiple:"
   ]
  },
  {
   "cell_type": "markdown",
   "metadata": {
    "colab_type": "text",
    "id": "ZhhAr1flH2v2"
   },
   "source": [
    "Maneja varias variables independientes. Tiene varios parámetros y se expresa de la siguiente manera:\n",
    "\n",
    "$$ Y_i = \\beta_0 \\sum\\beta_pX_{pi} + \\varepsilon_i $$"
   ]
  },
  {
   "cell_type": "markdown",
   "metadata": {
    "colab_type": "text",
    "id": "TnWbcBSFD2tm"
   },
   "source": [
    "En esta oportunidad con dos variables predictoras para crear un modelo de regresión lineal múltiple.\n",
    "\n",
    "Yₑ = α + β₁X₁ + β₂X₂ + … + βpXp, donde p es el número de predictores\n",
    "\n",
    "Ahora veremos las ventas de acuerdo a las variables TV y RADIO:\n",
    "\n",
    "$sales = \\alpha + \\beta_1(TV) + \\beta_2(Radio)$"
   ]
  },
  {
   "cell_type": "code",
   "execution_count": 0,
   "metadata": {
    "colab": {},
    "colab_type": "code",
    "id": "9dC4911UEJv5"
   },
   "outputs": [],
   "source": [
    "from sklearn.linear_model import LinearRegression\n",
    "\n",
    "# Build linear regression model using TV and Radio as predictors\n",
    "# Split data into predictors X and output Y\n",
    "predictors = ['TV', 'radio']\n",
    "X = advert[predictors]\n",
    "y = advert['sales']\n",
    "\n",
    "# Initialise and fit model\n",
    "lm = LinearRegression()\n",
    "model = lm.fit(X, y)"
   ]
  },
  {
   "cell_type": "markdown",
   "metadata": {
    "colab_type": "text",
    "id": "nMFPhPWYEesl"
   },
   "source": [
    "No hay necesidad de calcular los valores de $\\alpha$ and $\\beta$ por nuestra cuenta. Utilicemos las funciones disponibles: \"intercept_\" para $\\alpha$, y \"coef_\" para una lista nuestros coeficientes $\\beta_1$ y $\\beta_2$:"
   ]
  },
  {
   "cell_type": "code",
   "execution_count": 0,
   "metadata": {
    "colab": {
     "base_uri": "https://localhost:8080/",
     "height": 51
    },
    "colab_type": "code",
    "executionInfo": {
     "elapsed": 1326,
     "status": "ok",
     "timestamp": 1555769326320,
     "user": {
      "displayName": "Mauricio Arriagada Benitez",
      "photoUrl": "https://lh3.googleusercontent.com/-2CTG9pNHdwQ/AAAAAAAAAAI/AAAAAAAAAG4/d66uv_hNeaE/s64/photo.jpg",
      "userId": "14306428628867845036"
     },
     "user_tz": 240
    },
    "id": "aWjExI85E2w4",
    "outputId": "7dea19d6-2abc-4daf-cba2-cf34613b7baf"
   },
   "outputs": [
    {
     "name": "stdout",
     "output_type": "stream",
     "text": [
      "alpha:  2.921099912405138\n",
      "betas:  [0.04575482 0.18799423]\n"
     ]
    }
   ],
   "source": [
    "print(\"alpha: \",model.intercept_)\n",
    "print(\"betas: \",model.coef_)"
   ]
  },
  {
   "cell_type": "markdown",
   "metadata": {
    "colab_type": "text",
    "id": "u7BxvpS6FC5c"
   },
   "source": [
    "De esta forma, nuestra formula queda expresada de la siguente manera:\n",
    "$$sales = 2.921 + 0.046(TV) + 0.1880(Radio)$$\n",
    "\n",
    "Y ahora se pueden hacer predicciones con la función \"predict()\":"
   ]
  },
  {
   "cell_type": "code",
   "execution_count": 0,
   "metadata": {
    "colab": {},
    "colab_type": "code",
    "id": "y2gq0Y_qFR-c"
   },
   "outputs": [],
   "source": [
    "model.predict(X)"
   ]
  },
  {
   "cell_type": "markdown",
   "metadata": {
    "colab_type": "text",
    "id": "31BW1nFmFYQL"
   },
   "source": [
    "Por ejemplo,si necestian saber cuántas ventras tendríamos si invirtiésemos  $\\$300$ comerciales de TV y $\\$200$ en comerciales de Radio; solo vasta con introducir los valores!"
   ]
  },
  {
   "cell_type": "code",
   "execution_count": 0,
   "metadata": {
    "colab": {
     "base_uri": "https://localhost:8080/",
     "height": 34
    },
    "colab_type": "code",
    "executionInfo": {
     "elapsed": 1025,
     "status": "ok",
     "timestamp": 1555769556634,
     "user": {
      "displayName": "Mauricio Arriagada Benitez",
      "photoUrl": "https://lh3.googleusercontent.com/-2CTG9pNHdwQ/AAAAAAAAAAI/AAAAAAAAAG4/d66uv_hNeaE/s64/photo.jpg",
      "userId": "14306428628867845036"
     },
     "user_tz": 240
    },
    "id": "U_AKuamNF2P0",
    "outputId": "c5eb5b26-1450-4e36-934f-ee72e8cbf4ad"
   },
   "outputs": [
    {
     "name": "stdout",
     "output_type": "stream",
     "text": [
      "[54.24638977]\n"
     ]
    }
   ],
   "source": [
    "new_X = [[300, 200]]\n",
    "pred = model.predict(new_X)\n",
    "print(pred)"
   ]
  },
  {
   "cell_type": "markdown",
   "metadata": {
    "colab_type": "text",
    "id": "Wk8ceGG2F6t1"
   },
   "source": [
    "Esto quiere decir que nosotros esperamos tener, en promedio, 54 unidades vendidas dada una inversión de $\\$300$ en comerciales de TV y $\\$200$ en comerciales de Radio. \n"
   ]
  },
  {
   "cell_type": "markdown",
   "metadata": {
    "colab_type": "text",
    "id": "YEtobCvMsuG_"
   },
   "source": [
    "# Referencias\n",
    "\n",
    "\n",
    "*   https://es.wikipedia.org/wiki/Regresi%C3%B3n_lineal\n",
    "*   http://www.aprendemachinelearning.com/regresion-lineal-en-espanol-con-python/\n",
    "*   http://www.pythondiario.com/2018/01/introduccion-al-machine-learning-8.html\n",
    "\n"
   ]
  }
 ],
 "metadata": {
  "colab": {
   "collapsed_sections": [],
   "name": "Regresión Lineal v2.ipynb",
   "provenance": [],
   "version": "0.3.2"
  },
  "kernelspec": {
   "display_name": "Python 3",
   "language": "python",
   "name": "python3"
  },
  "language_info": {
   "codemirror_mode": {
    "name": "ipython",
    "version": 3
   },
   "file_extension": ".py",
   "mimetype": "text/x-python",
   "name": "python",
   "nbconvert_exporter": "python",
   "pygments_lexer": "ipython3",
   "version": "3.7.4"
  }
 },
 "nbformat": 4,
 "nbformat_minor": 1
}
