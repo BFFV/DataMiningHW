{
 "cells": [
  {
   "cell_type": "code",
   "execution_count": 1,
   "metadata": {},
   "outputs": [],
   "source": [
    "# Paso 1: importamos la librería numérica NumPy\n",
    "import numpy as np\n",
    "\n",
    "# Paso 2: preparamos los datos\n",
    "X = np.array([0.5, 0.75, 1, 1.25, 1.5, 1.75, 1.75, 2, 2.25, 2.5, 2.75, 3, 3.25, 3.5, 4, 4.25, 4.5, 4.75, 5, 5.5]).reshape(-1,1)\n",
    "y = np.array([0, 0, 0, 0, 0, 0, 1, 0, 1, 0, 1, 0, 1, 0, 1, 1, 1, 1, 1, 1])"
   ]
  },
  {
   "cell_type": "code",
   "execution_count": 2,
   "metadata": {},
   "outputs": [
    {
     "name": "stderr",
     "output_type": "stream",
     "text": [
      "/Users/mauricioarriagada/.local/lib/python3.6/site-packages/sklearn/linear_model/logistic.py:432: FutureWarning: Default solver will be changed to 'lbfgs' in 0.22. Specify a solver to silence this warning.\n",
      "  FutureWarning)\n"
     ]
    },
    {
     "data": {
      "text/plain": [
       "LogisticRegression(C=1.0, class_weight=None, dual=False, fit_intercept=True,\n",
       "                   intercept_scaling=1, l1_ratio=None, max_iter=100,\n",
       "                   multi_class='warn', n_jobs=None, penalty='l2',\n",
       "                   random_state=None, solver='warn', tol=0.0001, verbose=0,\n",
       "                   warm_start=False)"
      ]
     },
     "execution_count": 2,
     "metadata": {},
     "output_type": "execute_result"
    }
   ],
   "source": [
    "# Paso 3: importamos la clase LogisticRegresion de scikit-learn\n",
    "from sklearn.linear_model import LogisticRegression\n",
    "\n",
    "# Paso 4: Creamos una instancia de la Regresión Logística\n",
    "regresion_logistica = LogisticRegression()\n",
    "\n",
    "# Paso 5: Entrena la regresión logística con los datos de entrenamiento\n",
    "regresion_logistica.fit(X,y)"
   ]
  },
  {
   "cell_type": "code",
   "execution_count": 3,
   "metadata": {},
   "outputs": [
    {
     "name": "stdout",
     "output_type": "stream",
     "text": [
      "[0 0 1 1 1 1]\n"
     ]
    }
   ],
   "source": [
    "X_nuevo = np.array([1, 2, 3, 4, 5, 6]).reshape(-1,1)\n",
    "\n",
    "# Paso 6: Usa el modelo entrenado para obtener las predicciones con datos nuevos\n",
    "prediccion = regresion_logistica.predict(X_nuevo)\n",
    "print(prediccion)\n",
    "# produce el resultado: [0 0 1 1 1 1]"
   ]
  },
  {
   "cell_type": "code",
   "execution_count": 4,
   "metadata": {},
   "outputs": [
    {
     "name": "stdout",
     "output_type": "stream",
     "text": [
      "[[0.6801015  0.3198985 ]\n",
      " [0.53568295 0.46431705]\n",
      " [0.38502138 0.61497862]\n",
      " [0.25359079 0.74640921]\n",
      " [0.15566862 0.84433138]\n",
      " [0.09095092 0.90904908]]\n"
     ]
    }
   ],
   "source": [
    "# Paso 7: Opcionalmente, obtén las probabilidades de la predicción\n",
    "# donde la primera columna tiene el % de no aprobación y la segunda columna\n",
    "# el % de aprobación\n",
    "probabilidades_prediccion = regresion_logistica.predict_proba(X_nuevo)\n",
    "print(probabilidades_prediccion)"
   ]
  },
  {
   "cell_type": "code",
   "execution_count": null,
   "metadata": {},
   "outputs": [],
   "source": []
  }
 ],
 "metadata": {
  "kernelspec": {
   "display_name": "Python 3",
   "language": "python",
   "name": "python3"
  },
  "language_info": {
   "codemirror_mode": {
    "name": "ipython",
    "version": 3
   },
   "file_extension": ".py",
   "mimetype": "text/x-python",
   "name": "python",
   "nbconvert_exporter": "python",
   "pygments_lexer": "ipython3",
   "version": "3.6.2"
  }
 },
 "nbformat": 4,
 "nbformat_minor": 2
}
