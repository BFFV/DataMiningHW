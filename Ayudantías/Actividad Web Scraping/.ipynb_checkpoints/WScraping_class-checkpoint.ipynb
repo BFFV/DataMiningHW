{
 "cells": [
  {
   "cell_type": "code",
   "execution_count": 1,
   "metadata": {},
   "outputs": [],
   "source": [
    "from bs4 import BeautifulSoup\n",
    "from lxml import html\n",
    "import pandas as pd\n",
    "import requests"
   ]
  },
  {
   "cell_type": "code",
   "execution_count": 30,
   "metadata": {},
   "outputs": [],
   "source": [
    "main_url = \"https://www.peta.cl/partes-y-piezas/almacenamiento.html?p=\"\n",
    "salida = open(\"catalogoPeta.csv\",\"w\",encoding=\"utf-8\")\n",
    "\n",
    "lista = []\n",
    "for i in range(1,8):\n",
    "    pageContent=requests.get(main_url+str(i))\n",
    "    pageContent.encoding = 'utf-8'\n",
    "    soup=BeautifulSoup(pageContent.text,\"lxml\")\n",
    "    data = soup.find(\"div\", {\"class\": \"products wrapper grid products-grid\"}).find_all(\"li\")\n",
    "    for elemento in data:\n",
    "        diccionario = {}\n",
    "        price = elemento.find(\"div\",{\"class\":\"final-price-discount\"})\n",
    "        diccionario[\"Price\"] = price.text\n",
    "        descr = elemento.find('a', href=True)\n",
    "        diccionario[\"Link\"] = descr['href']\n",
    "        link = descr['href'].split(\"/\")\n",
    "        if \".html\" not in descr['href']:\n",
    "            diccionario[\"Descripcion\"] = link[9].replace(\"-\",\" \")\n",
    "        else:\n",
    "            diccionario[\"Descripcion\"] = \"\"\n",
    "        lista.append(diccionario)\n",
    "\n",
    "datos=pd.DataFrame(lista)\n",
    "datos.to_csv(salida,sep=';',index=False,encoding='utf-8')"
   ]
  },
  {
   "cell_type": "code",
   "execution_count": null,
   "metadata": {},
   "outputs": [],
   "source": []
  }
 ],
 "metadata": {
  "kernelspec": {
   "display_name": "Python 3",
   "language": "python",
   "name": "python3"
  },
  "language_info": {
   "codemirror_mode": {
    "name": "ipython",
    "version": 3
   },
   "file_extension": ".py",
   "mimetype": "text/x-python",
   "name": "python",
   "nbconvert_exporter": "python",
   "pygments_lexer": "ipython3",
   "version": "3.7.4"
  }
 },
 "nbformat": 4,
 "nbformat_minor": 2
}
